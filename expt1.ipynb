{
 "cells": [
  {
   "cell_type": "code",
   "execution_count": 5,
   "id": "53f7f9e7",
   "metadata": {},
   "outputs": [
    {
     "name": "stdout",
     "output_type": "stream",
     "text": [
      "Image properties:\n",
      "Height: 632, Width: 474, Channels: 3\n"
     ]
    }
   ],
   "source": [
    "import cv2\n",
    "import numpy as np\n",
    "\n",
    "# Read an image\n",
    "image_path = \"ammar_upscaled2.png\"\n",
    "img = cv2.imread(image_path)\n",
    "\n",
    "# Display the original image\n",
    "cv2.imshow(\"Original Image\", img)\n",
    "cv2.waitKey(0)\n",
    "cv2.destroyAllWindows()\n",
    "\n",
    "# Observe properties of the image\n",
    "height, width, channels = img.shape\n",
    "print(\"Image properties:\")\n",
    "print(f\"Height: {height}, Width: {width}, Channels: {channels}\")"
   ]
  },
  {
   "cell_type": "code",
   "execution_count": 7,
   "id": "f5986d59",
   "metadata": {},
   "outputs": [],
   "source": [
    "# Splitting the layers\n",
    "b, g, r = cv2.split(img)\n",
    "\n",
    "# Display individual color channels\n",
    "cv2.imshow(\"Blue Channel\", b)\n",
    "cv2.imshow(\"Green Channel\", g)\n",
    "cv2.imshow(\"Red Channel\", r)\n",
    "cv2.waitKey(0)\n",
    "cv2.destroyAllWindows()"
   ]
  },
  {
   "cell_type": "code",
   "execution_count": 8,
   "id": "d9fa5598",
   "metadata": {},
   "outputs": [],
   "source": [
    "# Convert to grayscale\n",
    "gray_img = cv2.cvtColor(img, cv2.COLOR_BGR2GRAY)\n",
    "cv2.imshow(\"Grayscale Image\", gray_img)\n",
    "cv2.waitKey(0)\n",
    "cv2.destroyAllWindows()"
   ]
  },
  {
   "cell_type": "code",
   "execution_count": 9,
   "id": "9e71e8d4",
   "metadata": {},
   "outputs": [],
   "source": [
    "# Crop an image\n",
    "start_row, end_row = 100, 400\n",
    "start_col, end_col = 200, 500\n",
    "cropped_img = img[start_row:end_row, start_col:end_col, :]\n",
    "cv2.imshow(\"Cropped Image\", cropped_img)\n",
    "cv2.waitKey(0)\n",
    "cv2.destroyAllWindows()"
   ]
  },
  {
   "cell_type": "code",
   "execution_count": 12,
   "id": "98871fa6",
   "metadata": {},
   "outputs": [],
   "source": [
    "# # Arithmetic operations\n",
    "# # adding two images\n",
    "# image1 = cv2.imread('ammar_upscaled2.png')  \n",
    "# image2 = cv2.imread('test2 up.png') \n",
    "  \n",
    "# # cv2.addWeighted is applied over the \n",
    "# # image inputs with applied parameters \n",
    "# weightedSum = cv2.addWeighted(image1, 0.5, image2, 0.4, 0) \n",
    "\n",
    "# cv2.imshow(\"Image1\", image1)\n",
    "# cv2.imshow(\"Image2\", image2)\n",
    "# cv2.imshow('Weighted Image', weightedSum) \n",
    "  \n",
    "# cv2.waitKey(0)\n",
    "# cv2.destroyAllWindows()\n",
    "\n",
    "\n",
    "import cv2\n",
    "\n",
    "# Reading the images\n",
    "image1 = cv2.imread('ammar_upscaled2.png')\n",
    "image2 = cv2.imread('test2 up.png')\n",
    "\n",
    "# Ensure the images are read correctly\n",
    "if image1 is None or image2 is None:\n",
    "    print(\"Error: One or both images could not be read.\")\n",
    "    exit()\n",
    "\n",
    "# Resize image2 to match the size of image1 (optional: resize image1 to match image2)\n",
    "if image1.shape != image2.shape:\n",
    "    image2 = cv2.resize(image2, (image1.shape[1], image1.shape[0]))\n",
    "\n",
    "# Ensure the number of channels are the same (convert to same number of channels if necessary)\n",
    "if image1.shape[2] != image2.shape[2]:\n",
    "    if image1.shape[2] == 1:\n",
    "        image1 = cv2.cvtColor(image1, cv2.COLOR_GRAY2BGR)\n",
    "    if image2.shape[2] == 1:\n",
    "        image2 = cv2.cvtColor(image2, cv2.COLOR_GRAY2BGR)\n",
    "\n",
    "# cv2.addWeighted is applied over the image inputs with applied parameters\n",
    "weightedSum = cv2.addWeighted(image1, 0.5, image2, 0.4, 0)\n",
    "\n",
    "# Display the images\n",
    "cv2.imshow(\"Image1\", image1)\n",
    "cv2.imshow(\"Image2\", image2)\n",
    "cv2.imshow('Weighted Image', weightedSum)\n",
    "\n",
    "cv2.waitKey(0)\n",
    "cv2.destroyAllWindows()\n"
   ]
  },
  {
   "cell_type": "code",
   "execution_count": 14,
   "id": "2c36b2db",
   "metadata": {},
   "outputs": [],
   "source": [
    "subtracted = cv2.subtract(image1, image2)\n",
    "cv2.imshow('Substracted Image Image', weightedSum) \n",
    "\n",
    "cv2.waitKey(0)\n",
    "cv2.destroyAllWindows()"
   ]
  },
  {
   "cell_type": "code",
   "execution_count": 16,
   "id": "ab39f0f8",
   "metadata": {},
   "outputs": [],
   "source": [
    "# Logical operations\n",
    "# Example: Bitwise AND operation\n",
    "# Bitwise XOR\n",
    "img_xor = cv2.bitwise_xor(image1, image2, mask = None)\n",
    "\n",
    "# Bitwise NOT\n",
    "img_not = cv2.bitwise_not(image1, image2, mask = None)\n",
    "\n",
    "cv2.imshow('bitwise xor', img_xor)\n",
    "cv2.imshow('bitwise not', img_not)\n",
    "\n",
    "cv2.waitKey(0)\n",
    "cv2.destroyAllWindows()"
   ]
  },
  {
   "cell_type": "code",
   "execution_count": null,
   "id": "7c5e3fef",
   "metadata": {},
   "outputs": [],
   "source": []
  }
 ],
 "metadata": {
  "kernelspec": {
   "display_name": "Python 3 (ipykernel)",
   "language": "python",
   "name": "python3"
  },
  "language_info": {
   "codemirror_mode": {
    "name": "ipython",
    "version": 3
   },
   "file_extension": ".py",
   "mimetype": "text/x-python",
   "name": "python",
   "nbconvert_exporter": "python",
   "pygments_lexer": "ipython3",
   "version": "3.9.13"
  }
 },
 "nbformat": 4,
 "nbformat_minor": 5
}
