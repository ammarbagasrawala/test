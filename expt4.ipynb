{
 "cells": [
  {
   "cell_type": "code",
   "execution_count": 26,
   "id": "c3e9ae3e",
   "metadata": {},
   "outputs": [],
   "source": [
    "import cv2\n",
    "import numpy as np"
   ]
  },
  {
   "cell_type": "code",
   "execution_count": 35,
   "id": "07ff430e",
   "metadata": {},
   "outputs": [],
   "source": [
    "img = cv2.imread('spine.tif', cv2.IMREAD_GRAYSCALE)\n",
    "\n",
    "cv2.imshow(\"Original Image\", img)\n",
    "cv2.waitKey(0)\n",
    "cv2.destroyAllWindows()"
   ]
  },
  {
   "cell_type": "code",
   "execution_count": 27,
   "id": "730c96a6",
   "metadata": {},
   "outputs": [],
   "source": [
    "#define kernal convolution function\n",
    "# with image X and filter F\n",
    "def convolve(X, F):\n",
    "    # height and width of the image\n",
    "    X_height = X.shape[0]\n",
    "    X_width = X.shape[1]\n",
    "    \n",
    "    # height and width of the filter\n",
    "    F_height = F.shape[0]\n",
    "    F_width = F.shape[1]\n",
    "    \n",
    "    H = (F_height - 1) // 2\n",
    "    W = (F_width - 1) // 2\n",
    "    \n",
    "#     print(f\"image shape: ({X_height}, {X_width})\")\n",
    "#     print(f\"filter shape: ({F_height}, {F_width})\")\n",
    "#     print(f\"H,W: ({H}, {W})\")\n",
    "    \n",
    "    #output numpy matrix with height and width\n",
    "    out = np.zeros((X_height, X_width))\n",
    "#     print(f\"out: {out}\")\n",
    "    \n",
    "    \n",
    "    #iterate over all the pixel of image X\n",
    "    for i in np.arange(H, X_height-H):\n",
    "        for j in np.arange(W, X_width-W):\n",
    "            sum = 0\n",
    "            #iterate over the filter\n",
    "            for k in range(-H, H+1):\n",
    "                for l in range(-W, W+1):\n",
    "#                     print(f\"i: {i}, j: {j}, k:{k}, l:{l}\")\n",
    "#                     get the corresponding value from image and filter\n",
    "                    a = X[i+k, j+l]\n",
    "                    w = F[H+k, W+l]\n",
    "                    sum += (w * a)\n",
    "            out[i,j] = np.clip(sum,0,255)\n",
    "    #return convolution  \n",
    "    return out"
   ]
  },
  {
   "cell_type": "code",
   "execution_count": 28,
   "id": "deff0afc",
   "metadata": {},
   "outputs": [],
   "source": [
    "#define horizontal and Vertical sobel kernels\n",
    "px = np.array([[-1, -1, -1],[0, 0, 0],[1, 1, 1]])\n",
    "py = np.array([[-1, 0, 1],[-1, 0, 1],[-1, 0, 1]])"
   ]
  },
  {
   "cell_type": "code",
   "execution_count": 29,
   "id": "35ea3a30",
   "metadata": {},
   "outputs": [],
   "source": [
    "prewitt_x=convolve(img, px) \n",
    "prewitt_y=convolve(img, py) "
   ]
  },
  {
   "cell_type": "code",
   "execution_count": 36,
   "id": "6d973174",
   "metadata": {},
   "outputs": [],
   "source": [
    "cv2.imshow(\"Prewitt X\", prewitt_x)\n",
    "cv2.imshow(\"Prewitt Y\", prewitt_y)\n",
    "cv2.waitKey(0)\n",
    "cv2.destroyAllWindows()"
   ]
  },
  {
   "cell_type": "code",
   "execution_count": 37,
   "id": "a87196e8",
   "metadata": {},
   "outputs": [],
   "source": [
    "p = np.clip(prewitt_x+prewitt_y, 0,255)\n",
    "\n",
    "cv2.imshow(\"Prewitt Added\", p)\n",
    "cv2.waitKey(0)\n",
    "cv2.destroyAllWindows()"
   ]
  },
  {
   "cell_type": "code",
   "execution_count": 32,
   "id": "f3cbd301",
   "metadata": {},
   "outputs": [],
   "source": [
    "#define horizontal and Vertical sobel kernels\n",
    "sx = np.array([[-1, 0, 1],[-2, 0, 2],[-1, 0, 1]])\n",
    "sy = np.array([[-1, -2, -1],[0, 0, 0],[1, 2, 1]])"
   ]
  },
  {
   "cell_type": "code",
   "execution_count": 33,
   "id": "a3253af6",
   "metadata": {},
   "outputs": [],
   "source": [
    "sobel_x=convolve(img, sx) \n",
    "sobel_y=convolve(img, sy) "
   ]
  },
  {
   "cell_type": "code",
   "execution_count": 38,
   "id": "04094a86",
   "metadata": {},
   "outputs": [],
   "source": [
    "cv2.imshow(\"Sobel X\", sobel_x)\n",
    "cv2.imshow(\"Sobel Y\", sobel_y)\n",
    "cv2.waitKey(0)\n",
    "cv2.destroyAllWindows()"
   ]
  },
  {
   "cell_type": "code",
   "execution_count": 39,
   "id": "87bcdca1",
   "metadata": {},
   "outputs": [],
   "source": [
    "s = np.clip(sobel_x+sobel_y, 0,255)\n",
    "\n",
    "cv2.imshow(\"Sobel Added\", s)\n",
    "cv2.waitKey(0)\n",
    "cv2.destroyAllWindows()"
   ]
  },
  {
   "cell_type": "code",
   "execution_count": null,
   "id": "72ae02a1",
   "metadata": {},
   "outputs": [],
   "source": []
  }
 ],
 "metadata": {
  "kernelspec": {
   "display_name": "Python 3 (ipykernel)",
   "language": "python",
   "name": "python3"
  },
  "language_info": {
   "codemirror_mode": {
    "name": "ipython",
    "version": 3
   },
   "file_extension": ".py",
   "mimetype": "text/x-python",
   "name": "python",
   "nbconvert_exporter": "python",
   "pygments_lexer": "ipython3",
   "version": "3.11.4"
  }
 },
 "nbformat": 4,
 "nbformat_minor": 5
}
