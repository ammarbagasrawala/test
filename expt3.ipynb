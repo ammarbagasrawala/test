{
 "cells": [
  {
   "cell_type": "code",
   "execution_count": 1,
   "id": "8ade01dd",
   "metadata": {},
   "outputs": [],
   "source": [
    "import cv2\n",
    "import numpy as np"
   ]
  },
  {
   "cell_type": "code",
   "execution_count": 2,
   "id": "e9945d7c",
   "metadata": {},
   "outputs": [],
   "source": [
    "img = cv2.imread('input2.jpg')"
   ]
  },
  {
   "cell_type": "code",
   "execution_count": 3,
   "id": "76fa7b16",
   "metadata": {},
   "outputs": [],
   "source": [
    "def add_gaussian_noise(image, mean=0, std=1):\n",
    "    noise = np.random.normal(mean, std, image.shape).astype(np.uint8)\n",
    "    noisy_image = cv2.add(image, noise)\n",
    "    return noisy_image"
   ]
  },
  {
   "cell_type": "code",
   "execution_count": 4,
   "id": "fe7edb1f",
   "metadata": {},
   "outputs": [],
   "source": [
    "noisy_img = add_gaussian_noise(img, mean=0, std=1)\n",
    " \n",
    "cv2.imshow(\"Original Image\", img)\n",
    "cv2.imshow(\"Noisy Image\", noisy_img)\n",
    "cv2.waitKey(0)\n",
    "cv2.destroyAllWindows()"
   ]
  },
  {
   "cell_type": "code",
   "execution_count": 3,
   "id": "397a14d7",
   "metadata": {},
   "outputs": [],
   "source": [
    "def add_salt_and_pepper_noise(image, noise_ratio=0.2):\n",
    "    noisy_image = image.copy()\n",
    "    h, w, c = noisy_image.shape\n",
    "    noisy_pixels = int(h * w * noise_ratio)\n",
    " \n",
    "    for _ in range(noisy_pixels):\n",
    "        row, col = np.random.randint(0, h), np.random.randint(0, w)\n",
    "        if np.random.rand() < 0.5:\n",
    "            noisy_image[row, col] = [0, 0, 0] \n",
    "        else:\n",
    "            noisy_image[row, col] = [255, 255, 255]\n",
    " \n",
    "    return noisy_image"
   ]
  },
  {
   "cell_type": "code",
   "execution_count": 4,
   "id": "0166ed7d",
   "metadata": {},
   "outputs": [],
   "source": [
    "salt_pepper = add_salt_and_pepper_noise(img, noise_ratio=0.2)\n",
    " \n",
    "cv2.imshow(\"Original Image\", img)\n",
    "cv2.imshow(\"Noisy Image (Salt and Pepper)\", salt_pepper)\n",
    "cv2.waitKey(0)\n",
    "cv2.destroyAllWindows()"
   ]
  },
  {
   "cell_type": "code",
   "execution_count": 7,
   "id": "b371d66d",
   "metadata": {},
   "outputs": [],
   "source": [
    "# Gausian blur\n",
    "kernel = np.float32([[1, 1, 1], \n",
    "                   [1, 1, 1],\n",
    "                   [1, 1, 1]])\n",
    "kernel = kernel/np.sum(kernel)\n",
    "\n",
    "#filter the source image\n",
    "gaussian_blur = cv2.filter2D(noisy_img,ddepth=-1,kernel=kernel)\n",
    " \n",
    "compare = np.concatenate((noisy_img, gaussian_blur), axis=1)\n",
    "# cv2.imshow(\"Original Image\", img)\n",
    "# cv2.imshow(\"Noisy Image (Gaussian)\", noisy_img)\n",
    "# cv2.imshow(\"Gaussian Blur\", gaussian_blur)\n",
    "cv2.imshow('After Average filtering', compare)\n",
    "cv2.waitKey(0)\n",
    "cv2.destroyAllWindows()"
   ]
  },
  {
   "cell_type": "code",
   "execution_count": 8,
   "id": "b8474659",
   "metadata": {},
   "outputs": [],
   "source": [
    "# Median filtering"
   ]
  },
  {
   "cell_type": "code",
   "execution_count": 9,
   "id": "45314d16",
   "metadata": {},
   "outputs": [],
   "source": [
    "median = cv2.medianBlur(img, 5)\n",
    "compare = np.concatenate((salt_pepper, median), axis=1)\n",
    "\n",
    "\n",
    "cv2.imshow('After Median filtering', compare)\n",
    "cv2.waitKey(0)\n",
    "cv2.destroyAllWindows()"
   ]
  }
 ],
 "metadata": {
  "kernelspec": {
   "display_name": "Python 3 (ipykernel)",
   "language": "python",
   "name": "python3"
  },
  "language_info": {
   "codemirror_mode": {
    "name": "ipython",
    "version": 3
   },
   "file_extension": ".py",
   "mimetype": "text/x-python",
   "name": "python",
   "nbconvert_exporter": "python",
   "pygments_lexer": "ipython3",
   "version": "3.11.4"
  }
 },
 "nbformat": 4,
 "nbformat_minor": 5
}
