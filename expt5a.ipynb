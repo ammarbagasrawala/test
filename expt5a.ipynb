{
 "cells": [
  {
   "cell_type": "code",
   "execution_count": 1,
   "id": "3dff01e1",
   "metadata": {},
   "outputs": [],
   "source": [
    "import cv2\n",
    "import numpy as np"
   ]
  },
  {
   "cell_type": "code",
   "execution_count": 2,
   "id": "c37102b0",
   "metadata": {},
   "outputs": [],
   "source": [
    "img = cv2.imread('x31_f18.tif', cv2.IMREAD_GRAYSCALE)\n",
    "\n",
    "cv2.imshow(\"Original Image\", img)\n",
    "cv2.waitKey(0)\n",
    "cv2.destroyAllWindows()"
   ]
  },
  {
   "cell_type": "code",
   "execution_count": 3,
   "id": "e7e2d3e8",
   "metadata": {},
   "outputs": [],
   "source": [
    "# gaussian blur\n",
    "img_gaussian = cv2.GaussianBlur(img,(3,3),0)\n",
    "cv2.imshow(\"Guassian blur added to image\", img_gaussian)\n",
    "cv2.waitKey(0)\n",
    "cv2.destroyAllWindows()"
   ]
  },
  {
   "cell_type": "code",
   "execution_count": null,
   "id": "5f728ea5",
   "metadata": {},
   "outputs": [],
   "source": [
    "#canny\n",
    "img_canny = cv2.Canny(img,100,200)\n",
    "cv2.imshow(\"Canny Filter\", img_canny)\n",
    "cv2.waitKey(0)\n",
    "cv2.destroyAllWindows()"
   ]
  },
  {
   "cell_type": "code",
   "execution_count": null,
   "id": "b8e67a2d",
   "metadata": {},
   "outputs": [],
   "source": [
    "#sobel\n",
    "img_sobelx = cv2.Sobel(img,cv2.CV_8U,1,0,ksize=5)\n",
    "img_sobely = cv2.Sobel(img,cv2.CV_8U,0,1,ksize=5)\n",
    "img_sobel = img_sobelx + img_sobely\n",
    "cv2.imshow(\"Sobel X\", img_sobelx)\n",
    "cv2.imshow(\"Sobel Y\", img_sobely)\n",
    "cv2.imshow(\"Sobel Image\", img_sobel)\n",
    "cv2.waitKey(0)\n",
    "cv2.destroyAllWindows()"
   ]
  },
  {
   "cell_type": "code",
   "execution_count": 4,
   "id": "5d410929",
   "metadata": {},
   "outputs": [],
   "source": [
    "#prewitt\n",
    "kernelx = np.array([[1,1,1],[0,0,0],[-1,-1,-1]])\n",
    "kernely = np.array([[-1,0,1],[-1,0,1],[-1,0,1]])\n",
    "img_prewittx = cv2.filter2D(img, -1, kernelx)\n",
    "img_prewitty = cv2.filter2D(img, -1, kernely)\n",
    "\n",
    "cv2.imshow(\"Prewitt X\", img_prewittx)\n",
    "cv2.imshow(\"Prewitt Y\", img_prewitty)\n",
    "cv2.imshow(\"Prewitt\", img_prewittx + img_prewitty)\n",
    "cv2.waitKey(0)\n",
    "cv2.destroyAllWindows()"
   ]
  },
  {
   "cell_type": "code",
   "execution_count": 5,
   "id": "45a98202",
   "metadata": {},
   "outputs": [],
   "source": [
    "lap = cv2.Laplacian(img, ddepth=-1, ksize=5)\n",
    "cv2.imshow(\"Laplacian Filter\", lap)\n",
    "cv2.waitKey(0)\n",
    "cv2.destroyAllWindows()"
   ]
  },
  {
   "cell_type": "code",
   "execution_count": 6,
   "id": "7a0c7b27",
   "metadata": {},
   "outputs": [],
   "source": [
    "lap_gaussian = cv2.Laplacian(img_gaussian, ddepth=-1, ksize=5)\n",
    "cv2.imshow(\"Laplacian of gaussian \", lap_gaussian)\n",
    "cv2.waitKey(0)\n",
    "cv2.destroyAllWindows()"
   ]
  },
  {
   "cell_type": "code",
   "execution_count": 7,
   "id": "b2e2ddd6",
   "metadata": {},
   "outputs": [],
   "source": [
    "lap_kernel = np.array([[0,1,0],[1,-4,1],[0,1,0]])\n",
    "lap_img = cv2.filter2D(img, -1, lap_kernel)\n",
    "\n",
    "cv2.imshow(\"Laplacian using filter 2d\", lap_img)\n",
    "cv2.waitKey(0)\n",
    "cv2.destroyAllWindows()"
   ]
  },
  {
   "cell_type": "code",
   "execution_count": null,
   "id": "21a38ad5",
   "metadata": {},
   "outputs": [],
   "source": []
  }
 ],
 "metadata": {
  "kernelspec": {
   "display_name": "Python 3 (ipykernel)",
   "language": "python",
   "name": "python3"
  },
  "language_info": {
   "codemirror_mode": {
    "name": "ipython",
    "version": 3
   },
   "file_extension": ".py",
   "mimetype": "text/x-python",
   "name": "python",
   "nbconvert_exporter": "python",
   "pygments_lexer": "ipython3",
   "version": "3.11.4"
  }
 },
 "nbformat": 4,
 "nbformat_minor": 5
}
