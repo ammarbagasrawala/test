{
 "cells": [
  {
   "cell_type": "code",
   "execution_count": 1,
   "id": "94d84e91",
   "metadata": {},
   "outputs": [],
   "source": [
    "import cv2\n",
    "import numpy as np"
   ]
  },
  {
   "cell_type": "code",
   "execution_count": 16,
   "id": "f36a3562",
   "metadata": {},
   "outputs": [],
   "source": [
    "img = cv2.imread('x31_f18.tif', cv2.IMREAD_GRAYSCALE)\n",
    "\n",
    "cv2.imshow(\"Original Image\", img)\n",
    "cv2.waitKey(0)\n",
    "cv2.destroyAllWindows()"
   ]
  },
  {
   "cell_type": "code",
   "execution_count": 17,
   "id": "167d1979",
   "metadata": {},
   "outputs": [],
   "source": [
    "low_kernel = cv2.GaussianBlur(img,(3,3),0)\n",
    "high_kernel = cv2.GaussianBlur(img,(5,5),0)\n",
    "low_kernel_sigma = cv2.GaussianBlur(img,(3,3),10)\n",
    "high_kernel_sigma = cv2.GaussianBlur(img,(5,5),50)\n",
    "low_kernel_sigma1 = cv2.GaussianBlur(img,(3,3),50)\n",
    "high_kernel_sigma1 = cv2.GaussianBlur(img,(5,5),10)\n",
    " \n",
    "# Calculate the DoG by subtracting\n",
    "dog = low_kernel - high_kernel\n",
    "\n",
    "cv2.imshow(\"Gaussian Blur 3x3 sigma=0\", low_kernel)\n",
    "cv2.imshow(\"Gaussian Blur 5x5 sigma=0\", high_kernel)\n",
    "cv2.imshow(\"Gaussian Blur 3x3 sigma=10\", low_kernel_sigma)\n",
    "cv2.imshow(\"Gaussian Blur 5x5 sigma=50\", high_kernel_sigma)\n",
    "cv2.imshow(\"Gaussian Blur 3x3 sigma=50\", low_kernel_sigma1)\n",
    "cv2.imshow(\"Gaussian Blur 5x5 sigma=10\", high_kernel_sigma1)\n",
    "\n",
    "cv2.imshow(\"DOG Image\", dog)\n",
    "cv2.waitKey(0)\n",
    "cv2.destroyAllWindows()"
   ]
  },
  {
   "cell_type": "code",
   "execution_count": 18,
   "id": "241631bb",
   "metadata": {},
   "outputs": [],
   "source": [
    "dest = cv2.cornerHarris(img, 2, 5, 0.07) \n",
    "  \n",
    "# Results are marked through the dilated corners \n",
    "dest = cv2.dilate(dest, None) \n",
    "  \n",
    "# Reverting back to the original image, \n",
    "# with optimal threshold value \n",
    "img[dest > 0.01 * dest.max()]=[255] \n",
    "  \n",
    "# the window showing output image with corners \n",
    "cv2.imshow('Harris Operator', img)\n",
    "cv2.waitKey(0)\n",
    "cv2.destroyAllWindows()"
   ]
  },
  {
   "cell_type": "code",
   "execution_count": null,
   "id": "c6fc7c53",
   "metadata": {},
   "outputs": [],
   "source": []
  }
 ],
 "metadata": {
  "kernelspec": {
   "display_name": "Python 3 (ipykernel)",
   "language": "python",
   "name": "python3"
  },
  "language_info": {
   "codemirror_mode": {
    "name": "ipython",
    "version": 3
   },
   "file_extension": ".py",
   "mimetype": "text/x-python",
   "name": "python",
   "nbconvert_exporter": "python",
   "pygments_lexer": "ipython3",
   "version": "3.11.4"
  }
 },
 "nbformat": 4,
 "nbformat_minor": 5
}
